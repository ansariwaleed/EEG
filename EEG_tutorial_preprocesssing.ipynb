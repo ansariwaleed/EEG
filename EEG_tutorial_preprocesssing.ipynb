{
  "nbformat": 4,
  "nbformat_minor": 0,
  "metadata": {
    "colab": {
      "provenance": [],
      "authorship_tag": "ABX9TyPA+XWUxbt1xLu7lphBHW0k",
      "include_colab_link": true
    },
    "kernelspec": {
      "name": "python3",
      "display_name": "Python 3"
    },
    "language_info": {
      "name": "python"
    }
  },
  "cells": [
    {
      "cell_type": "markdown",
      "metadata": {
        "id": "view-in-github",
        "colab_type": "text"
      },
      "source": [
        "<a href=\"https://colab.research.google.com/github/ansariwaleed/EEG/blob/main/EEG_tutorial_preprocesssing.ipynb\" target=\"_parent\"><img src=\"https://colab.research.google.com/assets/colab-badge.svg\" alt=\"Open In Colab\"/></a>"
      ]
    },
    {
      "cell_type": "markdown",
      "source": [
        "##Import code from other notebook"
      ],
      "metadata": {
        "id": "05bVHNTIT2gj"
      }
    },
    {
      "cell_type": "code",
      "source": [
        "import io, os,sys,types\n",
        "from IPython import get_ipython\n",
        "from nbformat import read\n",
        "from IPython.core.interactiveshell import InteractiveShell\n",
        "\n",
        "class NotebookFinder(object):\n",
        "    \"\"\"Module finder that locates Jupyter Notebooks\"\"\"\n",
        "    def __init__(self):\n",
        "        self.loaders = {}\n",
        "\n",
        "    def find_module(self, fullname, path=None):\n",
        "        nb_path = find_notebook(fullname, path)\n",
        "        if not nb_path:\n",
        "            return\n",
        "\n",
        "        key = path\n",
        "        if path:\n",
        "            # lists aren't hashable\n",
        "            key = os.path.sep.join(path)\n",
        "\n",
        "        if key not in self.loaders:\n",
        "            self.loaders[key] = NotebookLoader(path)\n",
        "        return self.loaders[key]\n",
        "\n",
        "def find_notebook(fullname, path=None):\n",
        "    \"\"\"find a notebook, given its fully qualified name and an optional path\n",
        "\n",
        "    This turns \"foo.bar\" into \"foo/bar.ipynb\"\n",
        "    and tries turning \"Foo_Bar\" into \"Foo Bar\" if Foo_Bar\n",
        "    does not exist.\n",
        "    \"\"\"\n",
        "    name = fullname.rsplit('.', 1)[-1]\n",
        "    if not path:\n",
        "        path = ['']\n",
        "    for d in path:\n",
        "        nb_path = os.path.join(d, name + \".ipynb\")\n",
        "        if os.path.isfile(nb_path):\n",
        "            return nb_path\n",
        "        # let import Notebook_Name find \"Notebook Name.ipynb\"\n",
        "        nb_path = nb_path.replace(\"_\", \" \")\n",
        "        if os.path.isfile(nb_path):\n",
        "            return nb_path\n",
        "\n",
        "class NotebookLoader(object):\n",
        "    \"\"\"Module Loader for Jupyter Notebooks\"\"\"\n",
        "    def __init__(self, path=None):\n",
        "        self.shell = InteractiveShell.instance()\n",
        "        self.path = path\n",
        "\n",
        "    def load_module(self, fullname):\n",
        "        \"\"\"import a notebook as a module\"\"\"\n",
        "        path = find_notebook(fullname, self.path)\n",
        "\n",
        "        print (\"importing Jupyter notebook from %s\" % path)\n",
        "\n",
        "        # load the notebook object\n",
        "        with io.open(path, 'r', encoding='utf-8') as f:\n",
        "            nb = read(f, 4)\n",
        "\n",
        "\n",
        "        # create the module and add it to sys.modules\n",
        "        # if name in sys.modules:\n",
        "        #    return sys.modules[name]\n",
        "        mod = types.ModuleType(fullname)\n",
        "        mod.__file__ = path\n",
        "        mod.__loader__ = self\n",
        "        mod.__dict__['get_ipython'] = get_ipython\n",
        "        sys.modules[fullname] = mod\n",
        "\n",
        "        # extra work to ensure that magics that would affect the user_ns\n",
        "        # actually affect the notebook module's ns\n",
        "        save_user_ns = self.shell.user_ns\n",
        "        self.shell.user_ns = mod.__dict__\n",
        "\n",
        "        try:\n",
        "          for cell in nb.cells:\n",
        "            if cell.cell_type == 'code':\n",
        "                # transform the input to executable Python\n",
        "                code = self.shell.input_transformer_manager.transform_cell(cell.source)\n",
        "                # run the code in themodule\n",
        "                exec(code, mod.__dict__)\n",
        "        finally:\n",
        "            self.shell.user_ns = save_user_ns\n",
        "        return mod\n",
        "sys.meta_path.append(NotebookFinder())"
      ],
      "metadata": {
        "id": "uTKmiTnTTyhq"
      },
      "execution_count": 9,
      "outputs": []
    },
    {
      "cell_type": "code",
      "execution_count": 10,
      "metadata": {
        "id": "j97kEG0KSfpo"
      },
      "outputs": [],
      "source": [
        "from scipy.signal import butter, lfilter\n",
        "import scipy\n",
        "import numpy as np\n",
        "\n",
        "def butter_bandpass_filter(data, lowcut, highcut, fs, order=5):\n",
        "    b, a = butter_bandpass(lowcut, highcut, fs, order=order)\n",
        "    y = scipy.signal.lfilter(b, a, data)\n",
        "    return y\n",
        "\n",
        "def butter_bandpass(lowcut, highcut, fs, order=5):\n",
        "    nyq = 0.5 * fs\n",
        "    low = lowcut / nyq\n",
        "    high = highcut / nyq\n",
        "    b, a = butter(order, [low, high], btype='band')\n",
        "    return b, a\n",
        "\n",
        "def one_hot(y_):\n",
        "    y_ = y_.reshape(len(y_))\n",
        "    y_ = [int(xx) for xx in y_]\n",
        "    n_values = np.max(y_) + 1\n",
        "    return np.eye(n_values)[np.array(y_, dtype=np.int32)]\n",
        "import numpy as np\n",
        "def extract(input, n_classes, n_fea, time_window, moving):\n",
        "    xx = input[:, :n_fea]\n",
        "    yy = input[:, n_fea:n_fea + 1]\n",
        "    new_x = []\n",
        "    new_y = []\n",
        "    number = int((xx.shape[0] / moving) - 1)\n",
        "    for i in range(number):\n",
        "        ave_y = np.average(yy[int(i * moving):int(i * moving + time_window)])\n",
        "        if ave_y in range(n_classes + 1):\n",
        "            new_x.append(xx[int(i * moving):int(i * moving + time_window), :])\n",
        "            new_y.append(ave_y)\n",
        "        else:\n",
        "            new_x.append(xx[int(i * moving):int(i * moving + time_window), :])\n",
        "            new_y.append(0)\n",
        "\n",
        "    new_x = np.array(new_x)\n",
        "    new_x = new_x.reshape([-1, n_fea * time_window])\n",
        "    new_y = np.array(new_y)\n",
        "    new_y.shape = [new_y.shape[0], 1]\n",
        "    data = np.hstack((new_x, new_y))\n",
        "    data = np.vstack((data, data[-1]))  # add the last sample again, to make the sample number round\n",
        "    return data"
      ]
    },
    {
      "cell_type": "code",
      "source": [
        "from google.colab import drive\n",
        "drive.mount(\"/content/drive\")"
      ],
      "metadata": {
        "colab": {
          "base_uri": "https://localhost:8080/"
        },
        "id": "WJHXrTgJUEDB",
        "outputId": "a8f5722e-fe14-470f-aac7-d61d4693cfcd"
      },
      "execution_count": 11,
      "outputs": [
        {
          "output_type": "stream",
          "name": "stdout",
          "text": [
            "Drive already mounted at /content/drive; to attempt to forcibly remount, call drive.mount(\"/content/drive\", force_remount=True).\n"
          ]
        }
      ]
    },
    {
      "cell_type": "markdown",
      "source": [
        "##Data Segementation\n",
        "Next, we show how to segment the data stream. We take 0.1 second as an example of time window, therefore, each segment contains 16=0.6*\n",
        "160 time steps as the sampling rate is 160 Hz. We set the overlapping rate as 50%, indicating there are 50% overlap between two adjacent segments."
      ],
      "metadata": {
        "id": "RBia-j97Srqb"
      }
    },
    {
      "cell_type": "code",
      "source": [
        "import numpy as np\n",
        "\n",
        "dataset_1 = np.load(\"/content/drive/MyDrive/1/1.npy\")\n",
        "\n",
        "n_class = 10 #0-9 classes ('10:rest' is not counted)\n",
        "no_feature = 64 # the number of features\n",
        "segment_length = 16 #selected time window\n",
        "\n",
        "# segment data, check more details about the 'extract' function in BCI_functions.ipynb\n",
        "data_seg = extract(dataset_1, n_classes=n_class, n_fea=no_feature, time_window=segment_length, moving=(segment_length/2))  # 50% overlapping\n",
        "\n",
        "print('After segmentation, the shape of the data:', data_seg.shape)"
      ],
      "metadata": {
        "colab": {
          "base_uri": "https://localhost:8080/"
        },
        "id": "O_UsHw9IT_HS",
        "outputId": "82df9c58-8589-4edd-f4b8-bf1a32952361"
      },
      "execution_count": 12,
      "outputs": [
        {
          "output_type": "stream",
          "name": "stdout",
          "text": [
            "After segmentation, the shape of the data: (32440, 1025)\n"
          ]
        }
      ]
    },
    {
      "cell_type": "markdown",
      "source": [
        "##Spliting Training and Test data"
      ],
      "metadata": {
        "id": "VQ3S8DZAVtfc"
      }
    },
    {
      "cell_type": "code",
      "source": [
        "# Fir# First, we separate the features and the label\n",
        "\n",
        "data_seg_feature = data_seg[:, :1024]\n",
        "data_seg_label = data_seg[:, 1024:1025]\n",
        "\n",
        "# split data\n",
        "from sklearn.model_selection import train_test_split\n",
        "train_feature, test_feature, train_label, test_label = train_test_split(data_seg_feature, data_seg_label, shuffle=True)\n",
        "print('The shape of training feature and label:', train_feature.shape, train_label.shape,\n",
        "     '\\nThe shape of test feature and label:', test_feature.shape, test_label.shape)\n"
      ],
      "metadata": {
        "colab": {
          "base_uri": "https://localhost:8080/"
        },
        "id": "T9VBK0ayVs_3",
        "outputId": "94558e95-4715-4d94-f7a6-56b86b6eee98"
      },
      "execution_count": 14,
      "outputs": [
        {
          "output_type": "stream",
          "name": "stdout",
          "text": [
            "The shape of training feature and label: (24330, 1024) (24330, 1) \n",
            "The shape of test feature and label: (8110, 1024) (8110, 1)\n"
          ]
        }
      ]
    },
    {
      "cell_type": "markdown",
      "source": [
        "##Normalization"
      ],
      "metadata": {
        "id": "4vlieAOKYlN-"
      }
    },
    {
      "cell_type": "markdown",
      "source": [
        "###Z- score normalization\n",
        ">Z-score normalization (Standardization) gives you an idea of how far from the mean a data point is.\n",
        "\n",
        "\n",
        "The equation for z-score normalization:\n",
        "\n",
        "![image.png](data:image/png;base64,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)\n"
      ],
      "metadata": {
        "id": "U5jAMnahZA5O"
      }
    },
    {
      "cell_type": "code",
      "source": [
        "from sklearn.preprocessing import StandardScaler\n",
        "scaler1 = StandardScaler().fit(train_feature)\n",
        "train_fea_norm1 = scaler1.transform(train_feature) #normalize the training data\n",
        "test_fea_norm1 = scaler1.transform(test_feature)\n",
        "\n",
        "print(\"After nomalization the shape of training features:\", train_fea_norm1.shape,\n",
        "      '\\nAfter normalization, the shape of test feature:', test_fea_norm1.shape)"
      ],
      "metadata": {
        "colab": {
          "base_uri": "https://localhost:8080/"
        },
        "id": "BLeFBbnYZUjn",
        "outputId": "159c5804-fcfa-46df-a0b6-01b4d66e96ef"
      },
      "execution_count": 18,
      "outputs": [
        {
          "output_type": "stream",
          "name": "stdout",
          "text": [
            "After nomalization the shape of training features: (24330, 1024) \n",
            "After normalization, the shape of test feature: (8110, 1024)\n"
          ]
        }
      ]
    },
    {
      "cell_type": "markdown",
      "source": [
        "###Unifrom normalization(L1)\n",
        "> For the uniform normalization, it process the dataset in a way that the sum of the absolute value of each column (in our case) to be one.\n",
        "The equation for uniform normalization:\n",
        "\n",
        "![image.png](data:image/png;base64,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)\n",
        "\n",
        "\n",
        "- Note, in sklearn.preprocessing.Normalizer， the default normalization is L2, so remember to set the normalizer to L1 normalization (norm='l1') when you want to use uniform normalization.\n",
        "- Mind the axis in this one. The normalizer seems to be defaultly scale on the channel-wise axis, in this case, we have to transpose the data in order to get the correct normalization."
      ],
      "metadata": {
        "id": "3L_HwPR8c7fZ"
      }
    },
    {
      "source": [
        "from sklearn.preprocessing import Normalizer\n",
        "\n",
        "# Fit the Normalizer on the original training data (not transposed)\n",
        "scaler2 = Normalizer(norm='l1').fit(train_feature)\n",
        "\n",
        "# Transform the original training and test data (not transposed)\n",
        "train_fea_norm2 = scaler2.transform(train_feature)\n",
        "test_fea_norm2 = scaler2.transform(test_feature)\n",
        "\n",
        "print('After normalization, the shape of training feature:', train_fea_norm2.shape,\n",
        "      '\\nAfter normalization, the shape of test feature:', test_fea_norm2.shape)"
      ],
      "cell_type": "code",
      "metadata": {
        "colab": {
          "base_uri": "https://localhost:8080/"
        },
        "id": "MfWJTf-IdmKL",
        "outputId": "8cbc22f6-475a-4dc9-882f-d53a42d09a83"
      },
      "execution_count": 23,
      "outputs": [
        {
          "output_type": "stream",
          "name": "stdout",
          "text": [
            "After normalization, the shape of training feature: (24330, 1024) \n",
            "After normalization, the shape of test feature: (8110, 1024)\n"
          ]
        }
      ]
    },
    {
      "cell_type": "markdown",
      "source": [
        "###Min-max normalization\n",
        "\n",
        "\n",
        "\n",
        "> Min-max normalization is one of the most common ways to normalize data. For every feature, the minimum value of that feature gets transformed into a 0, the maximum value gets transformed into a 1, and every other value gets transformed into a decimal between 0 and 1.1\n",
        "\n",
        "The equation for min-max normalization:\n",
        "\n",
        "![image.png](data:image/png;base64,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)\n"
      ],
      "metadata": {
        "id": "kaQHIeMabsX9"
      }
    },
    {
      "cell_type": "code",
      "source": [
        "from sklearn.preprocessing import MinMaxScaler\n",
        "scaler3 = MinMaxScaler().fit(train_feature)\n",
        "train_fea_norm3 = scaler3.transform(train_feature)\n",
        "test_fea_norm3 = scaler3.transform(test_feature)\n",
        "\n",
        "print('After normalization, the shape of training feature:', train_fea_norm3.shape,\n",
        "      '\\nAfter normalization, the shape of test feature:', test_fea_norm3.shape)\n"
      ],
      "metadata": {
        "colab": {
          "base_uri": "https://localhost:8080/"
        },
        "id": "VXAvNxyNb763",
        "outputId": "ef48efa3-dd9d-4a9e-d8f2-29544d640c06"
      },
      "execution_count": 20,
      "outputs": [
        {
          "output_type": "stream",
          "name": "stdout",
          "text": [
            "After normalization, the shape of training feature: (24330, 1024) \n",
            "After normalization, the shape of test feature: (8110, 1024)\n"
          ]
        }
      ]
    }
  ]
}